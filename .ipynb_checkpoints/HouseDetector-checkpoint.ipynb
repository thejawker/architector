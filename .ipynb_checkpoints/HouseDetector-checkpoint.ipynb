{
 "cells": [
  {
   "cell_type": "markdown",
   "metadata": {},
   "source": [
    "# House Detector"
   ]
  },
  {
   "cell_type": "code",
   "execution_count": 46,
   "metadata": {},
   "outputs": [
    {
     "data": {
      "text/plain": [
       "'2.1.0'"
      ]
     },
     "execution_count": 46,
     "metadata": {},
     "output_type": "execute_result"
    }
   ],
   "source": [
    "# !pip install tensorflow\n",
    "\n",
    "import tensorflow as tf\n",
    "tf.__version__"
   ]
  },
  {
   "cell_type": "code",
   "execution_count": 47,
   "metadata": {},
   "outputs": [],
   "source": [
    "# Get files ready\n",
    "from os import getcwd\n",
    "import os\n",
    "import zipfile\n",
    "from shutil import copyfile\n",
    "\n",
    "data_dir = f\"{getcwd()}/data\"\n",
    "tmp_dir = f\"{data_dir}/tmp\"\n",
    "houses_dir = f\"{data_dir}/house_vs_no_house.zip\"\n",
    "\n",
    "# delete tmp\n",
    "!rm -rf ./data/tmp\n",
    "\n",
    "zip_ref = zipfile.ZipFile(houses_dir, 'r')\n",
    "zip_ref.extractall(f\"{tmp_dir}/raw/\")\n",
    "zip_ref.close()"
   ]
  },
  {
   "cell_type": "code",
   "execution_count": 48,
   "metadata": {},
   "outputs": [
    {
     "name": "stdout",
     "output_type": "stream",
     "text": [
      "house contains: 1100 images\n",
      "no_house contains: 1100 images\n"
     ]
    }
   ],
   "source": [
    "try:\n",
    "    dirs_to_make = [\n",
    "        'training/house',\n",
    "        'training/no_house',\n",
    "        'testing/house',\n",
    "        'testing/no_house',\n",
    "    ]\n",
    "    \n",
    "    for dir in dirs_to_make:\n",
    "        os.makedirs(os.path.join(tmp_dir, dir))\n",
    "except OSError:\n",
    "    pass\n",
    "\n",
    "\n",
    "limit = 1100\n",
    "split = .9\n",
    "\n",
    "for type in ['house', 'no_house']:\n",
    "    img_dir = f\"{tmp_dir}/raw/house_vs_no_house\"\n",
    "    data = os.listdir(os.path.join(img_dir, type))\n",
    "    data = data[:limit]\n",
    "    print(f'{type} contains: {len(data)} images')\n",
    "    split_at = int(len(data) * split)\n",
    "    data_set = {\n",
    "        'training': data[:split_at],\n",
    "        'testing': data[split_at:]\n",
    "    }\n",
    "    \n",
    "    for (dir_name, photos) in data_set.items():\n",
    "        for photo in photos:            \n",
    "            try:\n",
    "                source = f\"{img_dir}/{type}/{photo}\"\n",
    "                dest = f\"{tmp_dir}/{dir_name}/{type}/{photo}\"\n",
    "                copyfile(source, dest)\n",
    "            except:\n",
    "                print('cant copy')\n",
    "                pass"
   ]
  },
  {
   "cell_type": "code",
   "execution_count": 49,
   "metadata": {},
   "outputs": [
    {
     "name": "stdout",
     "output_type": "stream",
     "text": [
      "Model: \"sequential_9\"\n",
      "_________________________________________________________________\n",
      "Layer (type)                 Output Shape              Param #   \n",
      "=================================================================\n",
      "conv2d_29 (Conv2D)           (None, 98, 98, 32)        896       \n",
      "_________________________________________________________________\n",
      "max_pooling2d_29 (MaxPooling (None, 49, 49, 32)        0         \n",
      "_________________________________________________________________\n",
      "conv2d_30 (Conv2D)           (None, 45, 45, 64)        51264     \n",
      "_________________________________________________________________\n",
      "max_pooling2d_30 (MaxPooling (None, 22, 22, 64)        0         \n",
      "_________________________________________________________________\n",
      "conv2d_31 (Conv2D)           (None, 16, 16, 128)       401536    \n",
      "_________________________________________________________________\n",
      "max_pooling2d_31 (MaxPooling (None, 8, 8, 128)         0         \n",
      "_________________________________________________________________\n",
      "flatten_9 (Flatten)          (None, 8192)              0         \n",
      "_________________________________________________________________\n",
      "dense_25 (Dense)             (None, 512)               4194816   \n",
      "_________________________________________________________________\n",
      "dropout_6 (Dropout)          (None, 512)               0         \n",
      "_________________________________________________________________\n",
      "dense_26 (Dense)             (None, 256)               131328    \n",
      "_________________________________________________________________\n",
      "dropout_7 (Dropout)          (None, 256)               0         \n",
      "_________________________________________________________________\n",
      "dense_27 (Dense)             (None, 128)               32896     \n",
      "_________________________________________________________________\n",
      "dense_28 (Dense)             (None, 2)                 258       \n",
      "=================================================================\n",
      "Total params: 4,812,994\n",
      "Trainable params: 4,812,994\n",
      "Non-trainable params: 0\n",
      "_________________________________________________________________\n"
     ]
    }
   ],
   "source": [
    "import tensorflow as tf\n",
    "from tensorflow.keras.optimizers import RMSprop\n",
    "\n",
    "model = tf.keras.models.Sequential([\n",
    "    tf.keras.layers.Conv2D(32, (3, 3), activation='relu', input_shape=(100, 100, 3)),\n",
    "    tf.keras.layers.MaxPooling2D(2, 2),\n",
    "    tf.keras.layers.Conv2D(64, (5, 5), activation='relu'),\n",
    "    tf.keras.layers.MaxPooling2D(2, 2),\n",
    "    tf.keras.layers.Conv2D(128, (7, 7), activation='relu'),\n",
    "    tf.keras.layers.MaxPooling2D(2, 2),\n",
    "#     tf.keras.layers.Conv2D(256, (3, 3), activation='relu'),\n",
    "#     tf.keras.layers.MaxPooling2D(2, 2),\n",
    "    tf.keras.layers.Flatten(),\n",
    "    tf.keras.layers.Dense(512, activation='relu'),\n",
    "    tf.keras.layers.Dropout(0.1),\n",
    "    tf.keras.layers.Dense(256, activation='relu'),\n",
    "    tf.keras.layers.Dropout(0.1),\n",
    "    tf.keras.layers.Dense(128, activation='relu'),\n",
    "    tf.keras.layers.Dense(2, activation='softmax'),\n",
    "])\n",
    "\n",
    "model.compile(optimizer='adam', loss='categorical_crossentropy', metrics=['acc'])\n",
    "\n",
    "model.summary()"
   ]
  },
  {
   "cell_type": "code",
   "execution_count": 50,
   "metadata": {},
   "outputs": [
    {
     "name": "stdout",
     "output_type": "stream",
     "text": [
      "Found 1902 images belonging to 2 classes.\n",
      "Found 212 images belonging to 2 classes.\n"
     ]
    }
   ],
   "source": [
    "from tensorflow.keras.preprocessing.image import ImageDataGenerator\n",
    "\n",
    "batch_size = 20\n",
    "\n",
    "TRAINING_DIR = f\"{tmp_dir}/training\"\n",
    "train_datagen = ImageDataGenerator(\n",
    "    rescale=1.0/255.0, \n",
    "    rotation_range=20,\n",
    "    width_shift_range=0.2,\n",
    "    height_shift_range=0.2,\n",
    "    shear_range=0.2,\n",
    "    zoom_range=0.2,\n",
    "    horizontal_flip=True,\n",
    "    fill_mode='nearest'\n",
    ")\n",
    "\n",
    "train_generator = train_datagen.flow_from_directory(TRAINING_DIR, \n",
    "                                                    batch_size=batch_size,\n",
    "                                                    class_mode='categorical',\n",
    "                                                    target_size=(100, 100))\n",
    "\n",
    "VALIDATION_DIR = f\"{tmp_dir}/testing\"\n",
    "validation_datagen = ImageDataGenerator(\n",
    "    rescale=1.0/255.0, \n",
    "#     rotation_range=20,\n",
    "#     width_shift_range=0.2,\n",
    "#     height_shift_range=0.2,\n",
    "#     shear_range=0.2,\n",
    "#     zoom_range=0.2,\n",
    "#     horizontal_flip=True,\n",
    "#     fill_mode='nearest'\n",
    ")\n",
    "\n",
    "validation_generator = validation_datagen.flow_from_directory(VALIDATION_DIR,\n",
    "                                                              batch_size=batch_size,\n",
    "                                                              class_mode='categorical', \n",
    "                                                              target_size=(100, 100))"
   ]
  },
  {
   "cell_type": "code",
   "execution_count": 51,
   "metadata": {},
   "outputs": [
    {
     "name": "stdout",
     "output_type": "stream",
     "text": [
      "WARNING:tensorflow:sample_weight modes were coerced from\n",
      "  ...\n",
      "    to  \n",
      "  ['...']\n",
      "WARNING:tensorflow:sample_weight modes were coerced from\n",
      "  ...\n",
      "    to  \n",
      "  ['...']\n",
      "Train for 95 steps, validate for 10 steps\n",
      "Epoch 1/60\n",
      "95/95 [==============================] - 20s 210ms/step - loss: 0.6006 - acc: 0.6849 - val_loss: 0.3413 - val_acc: 0.8650\n",
      "Epoch 2/60\n",
      "95/95 [==============================] - 19s 196ms/step - loss: 0.3434 - acc: 0.8549 - val_loss: 0.3717 - val_acc: 0.8500\n",
      "Epoch 3/60\n",
      "95/95 [==============================] - 19s 195ms/step - loss: 0.3183 - acc: 0.8581 - val_loss: 0.3257 - val_acc: 0.8650\n",
      "Epoch 4/60\n",
      "95/95 [==============================] - 19s 199ms/step - loss: 0.2904 - acc: 0.8773 - val_loss: 0.2761 - val_acc: 0.9250\n",
      "Epoch 5/60\n",
      "95/95 [==============================] - 19s 199ms/step - loss: 0.2690 - acc: 0.8959 - val_loss: 0.2367 - val_acc: 0.9200\n",
      "Epoch 6/60\n",
      "95/95 [==============================] - 19s 203ms/step - loss: 0.2531 - acc: 0.9081 - val_loss: 0.2421 - val_acc: 0.9250\n",
      "Epoch 7/60\n",
      "95/95 [==============================] - 20s 208ms/step - loss: 0.2101 - acc: 0.9251 - val_loss: 0.2779 - val_acc: 0.9150\n",
      "Epoch 8/60\n",
      "95/95 [==============================] - 19s 205ms/step - loss: 0.2134 - acc: 0.9251 - val_loss: 0.2111 - val_acc: 0.9250\n",
      "Epoch 9/60\n",
      "95/95 [==============================] - 21s 221ms/step - loss: 0.2187 - acc: 0.9261 - val_loss: 0.3149 - val_acc: 0.8450\n",
      "Epoch 10/60\n",
      "95/95 [==============================] - 20s 214ms/step - loss: 0.2197 - acc: 0.9283 - val_loss: 0.2257 - val_acc: 0.9200\n",
      "Epoch 11/60\n",
      "95/95 [==============================] - 19s 202ms/step - loss: 0.2172 - acc: 0.9251 - val_loss: 0.2445 - val_acc: 0.9200\n",
      "Epoch 12/60\n",
      "95/95 [==============================] - 19s 205ms/step - loss: 0.2159 - acc: 0.9283 - val_loss: 0.3063 - val_acc: 0.8900\n",
      "Epoch 13/60\n",
      "95/95 [==============================] - 19s 203ms/step - loss: 0.2063 - acc: 0.9315 - val_loss: 0.2227 - val_acc: 0.9300\n",
      "Epoch 14/60\n",
      "95/95 [==============================] - 19s 204ms/step - loss: 0.1942 - acc: 0.9330 - val_loss: 0.2286 - val_acc: 0.9300\n",
      "Epoch 15/60\n",
      "95/95 [==============================] - 19s 200ms/step - loss: 0.1953 - acc: 0.9394 - val_loss: 0.2766 - val_acc: 0.9050\n",
      "Epoch 16/60\n",
      "95/95 [==============================] - 19s 200ms/step - loss: 0.1982 - acc: 0.9373 - val_loss: 0.2190 - val_acc: 0.9300\n",
      "Epoch 17/60\n",
      "95/95 [==============================] - 19s 198ms/step - loss: 0.2197 - acc: 0.9208 - val_loss: 0.3014 - val_acc: 0.8850\n",
      "Epoch 18/60\n",
      "95/95 [==============================] - 19s 197ms/step - loss: 0.1912 - acc: 0.9357 - val_loss: 0.2799 - val_acc: 0.9150\n",
      "Epoch 19/60\n",
      "95/95 [==============================] - 19s 201ms/step - loss: 0.1901 - acc: 0.9357 - val_loss: 0.2280 - val_acc: 0.9200\n",
      "Epoch 20/60\n",
      "95/95 [==============================] - 19s 198ms/step - loss: 0.1789 - acc: 0.9384 - val_loss: 0.2342 - val_acc: 0.9250\n",
      "Epoch 21/60\n",
      "95/95 [==============================] - 19s 198ms/step - loss: 0.1913 - acc: 0.9336 - val_loss: 0.2596 - val_acc: 0.9050\n",
      "Epoch 22/60\n",
      "95/95 [==============================] - 19s 198ms/step - loss: 0.1901 - acc: 0.9389 - val_loss: 0.2387 - val_acc: 0.9250\n",
      "Epoch 23/60\n",
      "94/95 [============================>.] - ETA: 0s - loss: 0.1769 - acc: 0.9404Reached 0.94% accuracy so cancelling training!\n",
      "95/95 [==============================] - 19s 200ms/step - loss: 0.1763 - acc: 0.9405 - val_loss: 0.3728 - val_acc: 0.8750\n"
     ]
    }
   ],
   "source": [
    "STEP_SIZE_TRAIN = (train_generator.n//train_generator.batch_size)\n",
    "STEP_SIZE_VALID = (validation_generator.n//validation_generator.batch_size)\n",
    "\n",
    "min_val = 0.94\n",
    "\n",
    "class StopOnComplete(tf.keras.callbacks.Callback):\n",
    "    def on_epoch_end(self, epoch, logs = {}):\n",
    "        if(logs.get('acc') > min_val):\n",
    "            print(f\"Reached {min_val}% accuracy so cancelling training!\")\n",
    "            self.model.stop_training = True\n",
    "\n",
    "callbacks = [StopOnComplete()]\n",
    "history = model.fit(train_generator,\n",
    "                    epochs=60,\n",
    "                    verbose=1,\n",
    "                    steps_per_epoch=STEP_SIZE_TRAIN,\n",
    "                    validation_steps=STEP_SIZE_VALID,\n",
    "                    validation_data=validation_generator,\n",
    "                    shuffle=True,\n",
    "                    callbacks=callbacks)\n"
   ]
  },
  {
   "cell_type": "code",
   "execution_count": 52,
   "metadata": {},
   "outputs": [
    {
     "data": {
      "text/plain": [
       "Text(0.5, 1.0, 'Training and validation loss')"
      ]
     },
     "execution_count": 52,
     "metadata": {},
     "output_type": "execute_result"
    },
    {
     "data": {
      "image/png": "[encoded data removed]",
      "text/plain": [
       "<Figure size 432x288 with 1 Axes>"
      ]
     },
     "metadata": {
      "needs_background": "light"
     },
     "output_type": "display_data"
    },
    {
     "data": {
      "image/png": "[encoded data removed]",
      "text/plain": [
       "<Figure size 432x288 with 1 Axes>"
      ]
     },
     "metadata": {
      "needs_background": "light"
     },
     "output_type": "display_data"
    }
   ],
   "source": [
    "# PLOT LOSS AND ACCURACY\n",
    "%matplotlib inline\n",
    "\n",
    "import matplotlib.image  as mpimg\n",
    "import matplotlib.pyplot as plt\n",
    "\n",
    "#-----------------------------------------------------------\n",
    "# Retrieve a list of list results on training and test data\n",
    "# sets for each training epoch\n",
    "#-----------------------------------------------------------\n",
    "acc=history.history['acc']\n",
    "val_acc=history.history['val_acc']\n",
    "loss=history.history['loss']\n",
    "val_loss=history.history['val_loss']\n",
    "\n",
    "epochs=range(len(acc)) # Get number of epochs\n",
    "\n",
    "#------------------------------------------------\n",
    "# Plot training and validation accuracy per epoch\n",
    "#------------------------------------------------\n",
    "plt.plot(epochs, acc, 'r', \"Training Accuracy\")\n",
    "plt.plot(epochs, val_acc, 'b', \"Validation Accuracy\")\n",
    "plt.title('Training and validation accuracy')\n",
    "plt.figure()\n",
    "\n",
    "#------------------------------------------------\n",
    "# Plot training and validation loss per epoch\n",
    "#------------------------------------------------\n",
    "plt.plot(epochs, loss, 'r', \"Training Loss\")\n",
    "plt.plot(epochs, val_loss, 'b', \"Validation Loss\")\n",
    "\n",
    "\n",
    "plt.title('Training and validation loss')"
   ]
  },
  {
   "cell_type": "code",
   "execution_count": 79,
   "metadata": {},
   "outputs": [
    {
     "name": "stdout",
     "output_type": "stream",
     "text": [
      "[0.13599382 0.86400616]\n",
      "cat.jpeg is NOT a house\n",
      "[9.9973136e-01 2.6864852e-04]\n",
      "horse.jpg is a house\n",
      "[0.998389   0.00161102]\n",
      "house1.jpg is a house\n",
      "[9.9978727e-01 2.1279076e-04]\n",
      "cool_house.jpeg is a house\n",
      "[9.9999654e-01 3.4794857e-06]\n",
      "empty-box-in-a-field-of-grass-AC66D6.jpg is a house\n",
      "[9.9966049e-01 3.3948038e-04]\n",
      "cat_grass.jpg is a house\n",
      "[0.99748456 0.00251537]\n",
      "beach.jpg is a house\n",
      "[0.3390883  0.66091174]\n",
      "interior_design.jpeg is NOT a house\n",
      "[0.09880067 0.9011994 ]\n",
      "computer.jpg is NOT a house\n",
      "[0.8547947 0.1452053]\n",
      "drawing_house.jpg is NOT a house\n",
      "[9.99896407e-01 1.03635975e-04]\n",
      "green-color-interior-design-980x653.jpg is a house\n"
     ]
    }
   ],
   "source": [
    "from keras.preprocessing import image\n",
    "import numpy as np\n",
    "\n",
    "for image_location in os.listdir(f'{data_dir}/testers'):\n",
    "    if '.DS_Store' in image_location:\n",
    "        continue\n",
    "        \n",
    "    path = f'{data_dir}/testers/{image_location}'\n",
    "    img = image.load_img(path, target_size=(100, 100))\n",
    "\n",
    "    x = image.img_to_array(img)\n",
    "    x = np.expand_dims(x, axis=0) / 255\n",
    "    images = np.vstack([x])\n",
    "\n",
    "    classes = model.predict(images, batch_size=30)\n",
    "\n",
    "    print(classes[0])\n",
    "\n",
    "    if classes[0][0]>.9:\n",
    "        print(f\"{image_location} is a house\")\n",
    "    else:\n",
    "        print(f\"{image_location} is NOT a house\")"
   ]
  },
  {
   "cell_type": "code",
   "execution_count": null,
   "metadata": {},
   "outputs": [],
   "source": []
  },
  {
   "cell_type": "code",
   "execution_count": null,
   "metadata": {},
   "outputs": [],
   "source": []
  }
 ],
 "metadata": {
  "kernelspec": {
   "display_name": "Python 3",
   "language": "python",
   "name": "python3"
  },
  "language_info": {
   "codemirror_mode": {
    "name": "ipython",
    "version": 3
   },
   "file_extension": ".py",
   "mimetype": "text/x-python",
   "name": "python",
   "nbconvert_exporter": "python",
   "pygments_lexer": "ipython3",
   "version": "3.7.6"
  }
 },
 "nbformat": 4,
 "nbformat_minor": 4
}
