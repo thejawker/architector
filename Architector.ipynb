{
  "nbformat": 4,
  "nbformat_minor": 0,
  "metadata": {
    "colab": {
      "name": "Architector.ipynb",
      "provenance": [],
      "collapsed_sections": [],
      "toc_visible": true,
      "authorship_tag": "ABX9TyO3k0XpJclxRhK1BMgvqbQi",
      "include_colab_link": true
    },
    "kernelspec": {
      "name": "python3",
      "display_name": "Python 3"
    }
  },
  "cells": [
    {
      "cell_type": "markdown",
      "metadata": {
        "id": "view-in-github",
        "colab_type": "text"
      },
      "source": [
        "<a href=\"https://colab.research.google.com/github/thejawker/architector/blob/master/Architector.ipynb\" target=\"_parent\"><img src=\"https://colab.research.google.com/assets/colab-badge.svg\" alt=\"Open In Colab\"/></a>"
      ]
    },
    {
      "cell_type": "markdown",
      "metadata": {
        "id": "nyT8erRV4NoV",
        "colab_type": "text"
      },
      "source": [
        "# Architector\n",
        "\n",
        "> Algorithm to detect features of residential architecture.\n",
        "\n",
        "\n",
        "## Possible Pipeline\n",
        "1. Detect if image has house\n",
        "2. Do a rough detection on labeled architecture\n",
        "  - a. find a large dataset of house fronts\n",
        "  - b. label these with the right architecture\n",
        "  - c. train model\n",
        "  - d. win\n",
        "3. Recognise features (roof, window, shape of building, color, walls etc)\n",
        "  - Either use supervised learning:\n",
        "    - for these individual features have a huge amount of labeled data \n",
        "  - Or unsupervised\n",
        "    - seperate the most distinct features in these\n",
        "\n",
        "## Dataset\n",
        "> How to get a good dataset?\n",
        "\n",
        "#### Google Maps Street View\n",
        "\n",
        "#### Scrape from Zillow, HotPads, Funda, etc.\n",
        "\n",
        "### Labeling\n",
        "\n",
        "## Things to test\n",
        "Try running simple algorithm on lots of data and see if it picked up on good catagories through **unsupervised learning**.\n",
        "\n",
        "## Roadmap\n",
        "\n",
        "### Proof of concept\n",
        "1. First do some testing, find 10 popular architecture styles\n",
        "2. Find at least 100 images of those architecture styles\n",
        "  - check pintrest\n",
        "  - google images\n",
        "  - zillow\n",
        "  - hotpads\n",
        "  - maybe use cgi to generate houses\n",
        "  - [cool house concepts](https://coolhouseconcepts.com/house-plans/3-bedroom-bungalow-house-plan/)\n",
        "  - check [houseplans.com](https://www.houseplans.com/collection/design-styles)\n",
        "3. Train with labels\n",
        "4. Put on server\n",
        "5. Make api and do some demoing with test frontend\n",
        "\n",
        "### Do the stuff above\n",
        "\n",
        "\n"
      ]
    },
    {
      "cell_type": "markdown",
      "metadata": {
        "id": "NF2uoueW-UP-",
        "colab_type": "text"
      },
      "source": [
        "# Links to possibly intereting things\n",
        "\n",
        "* [Darknet (fast and accurate object / feature detection)](https://github.com/AlexeyAB/darknet)\n",
        "* [Tutorial for Darknet implementation](https://www.youtube.com/watch?v=10joRJt39Ns)\n",
        "* [Darnet Tensorflow implementation)[https://github.com/wizyoung/YOLOv3_TensorFlow]\n",
        "\n",
        "\n"
      ]
    },
    {
      "cell_type": "code",
      "metadata": {
        "id": "AtBUA41wEjlF",
        "colab_type": "code",
        "colab": {}
      },
      "source": [
        ""
      ],
      "execution_count": 0,
      "outputs": []
    }
  ]
}