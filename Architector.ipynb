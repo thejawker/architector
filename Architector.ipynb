{
  "nbformat": 4,
  "nbformat_minor": 0,
  "metadata": {
    "colab": {
      "name": "Architector.ipynb",
      "provenance": [],
      "collapsed_sections": [],
      "toc_visible": true,
      "authorship_tag": "ABX9TyN6fi81Ra60roIOoqtMrIUC",
      "include_colab_link": true
    },
    "kernelspec": {
      "name": "python3",
      "display_name": "Python 3"
    }
  },
  "cells": [
    {
      "cell_type": "markdown",
      "metadata": {
        "id": "view-in-github",
        "colab_type": "text"
      },
      "source": [
        "<a href=\"https://colab.research.google.com/github/thejawker/architector/blob/master/Architector.ipynb\" target=\"_parent\"><img src=\"https://colab.research.google.com/assets/colab-badge.svg\" alt=\"Open In Colab\"/></a>"
      ]
    },
    {
      "cell_type": "markdown",
      "metadata": {
        "id": "nyT8erRV4NoV",
        "colab_type": "text"
      },
      "source": [
        "# Architector\n",
        "\n",
        "> Algorithm to detect features of residential architecture.\n",
        "\n",
        "\n",
        "## Possible Pipeline\n",
        "1. Detect if image has house\n",
        "2. Do a rough detection on labeled architecture\n",
        "  - a. find a large dataset of house fronts\n",
        "  - b. label these with the right architecture\n",
        "  - c. train model\n",
        "  - d. win\n",
        "3. Recognise features (roof, window, shape of building, color, walls etc)\n",
        "  - Either use supervised learning:\n",
        "    - for these individual features have a huge amount of labeled data \n",
        "  - Or unsupervised\n",
        "    - seperate the most distinct features in these\n",
        "\n",
        "## Dataset\n",
        "> How to get a good dataset?\n",
        "\n",
        "#### Google Maps Street View\n",
        "\n",
        "#### Scrape from Zillow, HotPads, Funda, etc.\n",
        "\n",
        "### Labeling\n",
        "\n",
        "## Things to test\n",
        "Try running simple algorithm on lots of data and see if it picked up on good catagories through **unsupervised learning**.\n",
        "\n",
        "## Roadmap\n",
        "\n",
        "### Proof of concept\n",
        "1. First do some testing, find 10 popular architecture styles\n",
        "2. Find at least 100 images of those architecture styles\n",
        "  - check [pintrest](https://github.com/ankitshekhawat/pinterest-scraper)\n",
        "  - google images\n",
        "  - zillow\n",
        "  - hotpads\n",
        "  - maybe use cgi to generate houses\n",
        "  - [cool house concepts](https://coolhouseconcepts.com/house-plans/3-bedroom-bungalow-house-plan/)\n",
        "  - check [houseplans.com](https://www.houseplans.com/collection/design-styles)\n",
        "3. Train with labels\n",
        "4. Put on server\n",
        "5. Make api and do some demoing with test frontend\n",
        "\n",
        "### Do the stuff above\n",
        "\n",
        "\n"
      ]
    },
    {
      "cell_type": "markdown",
      "metadata": {
        "id": "NF2uoueW-UP-",
        "colab_type": "text"
      },
      "source": [
        "# Links to possibly intereting things\n",
        "\n",
        "* [Darknet (fast and accurate object / feature detection)](https://github.com/AlexeyAB/darknet)\n",
        "* [Tutorial for Darknet implementation](https://www.youtube.com/watch?v=10joRJt39Ns)\n",
        "* [Darnet Tensorflow implementation)[https://github.com/wizyoung/YOLOv3_TensorFlow]\n",
        "\n",
        "\n"
      ]
    },
    {
      "cell_type": "code",
      "metadata": {
        "id": "UPRxxhdqOCUj",
        "colab_type": "code",
        "colab": {}
      },
      "source": [
        "!rm -rf /tmp/houses\n",
        "!rm -rf /data"
      ],
      "execution_count": 0,
      "outputs": []
    },
    {
      "cell_type": "code",
      "metadata": {
        "id": "AtBUA41wEjlF",
        "colab_type": "code",
        "colab": {
          "base_uri": "https://localhost:8080/",
          "height": 289
        },
        "outputId": "aabbbc32-d9ce-482a-aa75-39d1f76413b2"
      },
      "source": [
        "import zipfile\n",
        "\n",
        "!wget https://github.com/thejawker/architector/raw/master/data/picked_house_plans.zip -P /tmp/houses\n",
        "\n",
        "zip_ref = zipfile.ZipFile('/tmp/houses/picked_house_plans.zip', 'r')\n",
        "zip_ref.extractall('/tmp/houses')\n",
        "zip_ref.close()"
      ],
      "execution_count": 72,
      "outputs": [
        {
          "output_type": "stream",
          "text": [
            "--2020-04-19 19:34:22--  https://github.com/thejawker/architector/raw/master/data/picked_house_plans.zip\n",
            "Resolving github.com (github.com)... 140.82.114.3\n",
            "Connecting to github.com (github.com)|140.82.114.3|:443... connected.\n",
            "HTTP request sent, awaiting response... 302 Found\n",
            "Location: https://raw.githubusercontent.com/thejawker/architector/master/data/picked_house_plans.zip [following]\n",
            "--2020-04-19 19:34:22--  https://raw.githubusercontent.com/thejawker/architector/master/data/picked_house_plans.zip\n",
            "Resolving raw.githubusercontent.com (raw.githubusercontent.com)... 151.101.0.133, 151.101.64.133, 151.101.128.133, ...\n",
            "Connecting to raw.githubusercontent.com (raw.githubusercontent.com)|151.101.0.133|:443... connected.\n",
            "HTTP request sent, awaiting response... 200 OK\n",
            "Length: 16784973 (16M) [application/zip]\n",
            "Saving to: ‘/tmp/houses/picked_house_plans.zip’\n",
            "\n",
            "picked_house_plans. 100%[===================>]  16.01M  96.4MB/s    in 0.2s    \n",
            "\n",
            "2020-04-19 19:34:23 (96.4 MB/s) - ‘/tmp/houses/picked_house_plans.zip’ saved [16784973/16784973]\n",
            "\n"
          ],
          "name": "stdout"
        }
      ]
    },
    {
      "cell_type": "code",
      "metadata": {
        "id": "9U0TF0xdLNLc",
        "colab_type": "code",
        "colab": {
          "base_uri": "https://localhost:8080/",
          "height": 853
        },
        "outputId": "cdbed103-12f9-4816-b895-56f2c68d5c5d"
      },
      "source": [
        "# Prepare the data\n",
        "\n",
        "import os\n",
        "from shutil import copyfile\n",
        "\n",
        "\n",
        "training_split = 0.7\n",
        "\n",
        "styles = [\n",
        "    'contemporary',\n",
        "    'craftsman',\n",
        "    'beach',\n",
        "    'bungalow',\n",
        "    'classical',\n",
        "    'colonial',\n",
        "    'country',\n",
        "    'european',\n",
        "    'mediterranean',\n",
        "    'modern',\n",
        "    'southern',\n",
        "    'victorian',\n",
        "]\n",
        "\n",
        "def copy_dataset(images, split, style):\n",
        "  split_at = int(len(images) * split)\n",
        "  dataset = {\n",
        "    'training': images[:split_at],\n",
        "    'testing': images[split_at:]\n",
        "  }\n",
        "\n",
        "  for (directory, images) in dataset.items():\n",
        "    print(directory)\n",
        "    print(images)\n",
        "    for image in images:\n",
        "      source = '/tmp/houses/picked_house_plans/{}/{}'.format(style, image)\n",
        "      dest = '/data/{}/{}/{}'.format(directory, style, image)\n",
        "      copyfile(source, dest)\n",
        "      \n",
        "\n",
        "for style in styles:\n",
        "  try:\n",
        "    os.makedirs('/data/training/{}'.format(style))\n",
        "    os.makedirs('/data/testing/{}'.format(style))\n",
        "  except:\n",
        "    pass\n",
        "\n",
        "for style in styles:\n",
        "  images = os.listdir('/tmp/houses/picked_house_plans/{}'.format(style))\n",
        "  copy_dataset(images, training_split, style)\n"
      ],
      "execution_count": 73,
      "outputs": [
        {
          "output_type": "stream",
          "text": [
            "training\n",
            "['contemporary-1-9.jpg', 'contemporary-2-4.jpg', 'contemporary-12-2.jpg', 'contemporary-23-6.jpg', 'contemporary-11-3.jpg', 'contemporary-1-7.jpg', 'contemporary-1-2.jpg', 'contemporary-18-2.jpg', 'contemporary-9-2.jpg', 'contemporary-11-5.jpg', 'contemporary-6-3.jpg', 'contemporary-13-5.jpg', 'contemporary-11-2.jpg', 'contemporary-8-2.jpg', 'contemporary-9-5.jpg', 'contemporary-1-6.jpg', 'contemporary-3-2.jpg', 'contemporary-28-2.jpg', 'contemporary-22-2.jpg', 'contemporary-18-1.jpg', 'contemporary-19-5.jpg', 'contemporary-29-1.jpg', 'contemporary-28-6.jpg', 'contemporary-2-1.jpg', 'contemporary-4-4.jpg', 'contemporary-9-4.jpg', 'contemporary-4-2.jpg', 'contemporary-7-1.jpg', 'contemporary-24-4.png', 'contemporary-28-4.jpg', 'contemporary-1-10.jpg', 'contemporary-11-4.jpg', 'contemporary-22-15.jpg', 'contemporary-18-4.jpg', 'contemporary-9-3.jpg', 'contemporary-15-3.jpg', 'contemporary-13-4.jpg', 'contemporary-24-1.png', 'contemporary-6-1.jpg', 'contemporary-28-1.jpg', 'contemporary-20-1.jpg', 'contemporary-17-2.jpg', 'contemporary-28-5.jpg', 'contemporary-1-11.jpg', 'contemporary-16-1.jpg', 'contemporary-10-2.jpg', 'contemporary-26-1.jpg', 'contemporary-18-3.jpg', 'contemporary-5-2.jpg', 'contemporary-2-3.jpg', 'contemporary-26-2.jpg', 'contemporary-18-5.jpg', 'contemporary-19-3.jpg', 'contemporary-30-2.jpg', 'contemporary-1-1.jpg', 'contemporary-20-2.jpg', 'contemporary-1-5.jpg', 'contemporary-22-3.jpg', 'contemporary-21-2.jpg', 'contemporary-3-5.jpg', 'contemporary-14-2.jpg', 'contemporary-12-1.jpg', 'contemporary-26-3.jpg', 'contemporary-13-8.jpg', 'contemporary-25-2.jpg', 'contemporary-5-1.jpg', 'contemporary-23-2.jpg', 'contemporary-7-2.jpg', 'contemporary-13-1.jpg', 'contemporary-6-2.jpg', 'contemporary-6-4.jpg', 'contemporary-17-1.jpg', 'contemporary-1-3.jpg', 'contemporary-2-2.jpg', 'contemporary-3-3.jpg', 'contemporary-27-1.jpg', 'contemporary-13-6.jpg', 'contemporary-4-1.jpg', 'contemporary-21-1.jpg']\n",
            "testing\n",
            "['contemporary-19-6.jpg', 'contemporary-8-1.jpg', 'contemporary-22-1.jpg', 'contemporary-13-7.jpg', 'contemporary-8-3.jpg', 'contemporary-30-1.jpg', 'contemporary-14-1.jpg', 'contemporary-19-1.jpg', 'contemporary-8-6.jpg', 'contemporary-1-8.jpg', 'contemporary-19-2.jpg', 'contemporary-1-4.jpg', 'contemporary-9-1.jpg', 'contemporary-8-4.jpg', 'contemporary-24-2.png', '.DS_Store', 'contemporary-23-1.jpg', 'contemporary-6-10.jpg', 'contemporary-4-3.jpg', 'contemporary-8-5.jpg', 'contemporary-11-1.jpg', 'contemporary-13-3.jpg', 'contemporary-17-3.jpg', 'contemporary-23-3.jpg', 'contemporary-25-1.jpg', 'contemporary-28-3.jpg', 'contemporary-15-1.jpg', 'contemporary-10-1.jpg', 'contemporary-15-2.jpg', 'contemporary-13-2.jpg', 'contemporary-2-5.jpg', 'contemporary-3-4.jpg', 'contemporary-3-1.jpg', 'contemporary-24-3.png']\n",
            "training\n",
            "['craftsman-26-3.jpg', 'craftsman-27-31.jpg', 'craftsman-27-32.jpg', 'craftsman-1-8.jpg', 'craftsman-27-2.jpg', 'craftsman-13-4.jpg', 'craftsman-15-5.jpg', 'craftsman-7-4.jpg', 'craftsman-28-1.jpg', 'craftsman-16-1.jpg', 'craftsman-6-2.jpg', 'craftsman-3-9.jpg', 'craftsman-9-2.jpg', 'craftsman-24-1.jpg', 'craftsman-18-2.jpg', 'craftsman-18-1.jpg', 'craftsman-13-5.jpg', 'craftsman-4-28.jpg', 'craftsman-7-5.jpg', 'craftsman-14-1.jpg', 'craftsman-14-2.jpg', 'craftsman-27-4.jpg', 'craftsman-7-6.jpg', 'craftsman-13-22.jpg', 'craftsman-1-5.jpg', 'craftsman-4-27.jpg', 'craftsman-3-10.jpg', 'craftsman-30-2.jpg', 'craftsman-27-8.jpg', 'craftsman-13-3.jpg', 'craftsman-27-34.jpg', 'craftsman-12-1.jpg', 'craftsman-12-2.jpg', 'craftsman-2-2.jpg', 'craftsman-15-1.jpg', 'craftsman-3-7.jpg', 'craftsman-29-1.jpg', 'craftsman-3-5.jpg', 'craftsman-1-2.jpg', 'craftsman-18-17.jpg', 'craftsman-4-3.jpg', 'craftsman-3-2.jpg', 'craftsman-3-8.jpg', 'craftsman-26-5.jpg', 'craftsman-27-7.jpg', 'craftsman-27-33.jpg', 'craftsman-4-1.jpg', 'craftsman-13-1.jpg', 'craftsman-27-36.jpg', 'craftsman-3-1.jpg', 'craftsman-3-4.jpg', 'craftsman-21-2.jpg', 'craftsman-8-6.jpg', 'craftsman-15-4.jpg', 'craftsman-26-2.jpg', 'craftsman-14-61.jpg', 'craftsman-22-1.jpg', 'craftsman-13-2.jpg', 'craftsman-9-14.jpg', 'craftsman-3-6.jpg', 'craftsman-10-1.jpg', 'craftsman-26-1.jpg', 'craftsman-10-3.jpg', 'craftsman-27-35.jpg', 'craftsman-4-2.jpg', 'craftsman-13-21.jpg', 'craftsman-6-1.jpg', 'craftsman-27-1.jpg', 'craftsman-26-6.jpg', 'craftsman-27-5.jpg', 'craftsman-25-2.jpg', 'craftsman-15-3.jpg', 'craftsman-1-1.jpg', 'craftsman-7-2.jpg', 'craftsman-27-6.jpg', 'craftsman-7-1.jpg', 'craftsman-15-2.jpg', 'craftsman-4-23.jpg', 'craftsman-27-3.jpg', 'craftsman-4-25.jpg', 'craftsman-8-3.jpg', 'craftsman-21-11.jpg', 'craftsman-21-12.jpg', 'craftsman-3-3.jpg']\n",
            "testing\n",
            "['craftsman-8-1.jpg', 'craftsman-9-15.jpg', 'craftsman-4-30.jpg', 'craftsman-25-1.jpg', 'craftsman-8-5.jpg', 'craftsman-4-26.jpg', 'craftsman-7-3.jpg', 'craftsman-27-30.jpg', 'craftsman-4-4.jpg', 'craftsman-1-3.jpg', 'craftsman-21-13.jpg', '.DS_Store', 'craftsman-19-1.jpg', 'craftsman-2-1.jpg', 'craftsman-1-4.jpg', 'craftsman-30-1.jpg', 'craftsman-1-6.jpg', 'craftsman-8-4.jpg', 'craftsman-4-24.jpg', 'craftsman-10-4.jpg', 'craftsman-17-1.jpg', 'craftsman-8-2.jpg', 'craftsman-10-2.jpg', 'craftsman-5-1.jpg', 'craftsman-13-6.jpg', 'craftsman-21-1.jpg', 'craftsman-9-16.jpg', 'craftsman-9-1.jpg', 'craftsman-14-28.jpg', 'craftsman-1-7.jpg', 'craftsman-19-2.jpg', 'craftsman-20-1.jpg', 'craftsman-23-1.jpg', 'craftsman-14-27.jpg', 'craftsman-26-4.jpg', 'craftsman-11-1.jpg', 'craftsman-4-29.jpg']\n",
            "training\n",
            "['beach-15-2.jpg', 'beach-16-1.jpg', 'beach-2-2.jpg', 'beach-25-3.jpg', 'beach-7-5.jpg', 'beach-7-4.jpg', 'beach-15-3.jpg', 'beach-6-1.jpg', 'beach-23-2.jpg', 'beach-7-2.jpg', 'beach-17-5.jpg', 'beach-13-1.jpg', 'beach-29-9.jpg', 'beach-6-3.jpg', 'beach-10-1.jpg', 'beach-19-1.jpg', 'beach-30-1.jpg', 'beach-9-2.jpg', 'beach-27-2.jpg', 'beach-2-3.jpg', 'beach-9-1.jpg', 'beach-8-1.jpg', 'beach-6-2.jpg', 'beach-1-2.jpg', 'beach-3-1.jpg', 'beach-28-2.jpg', 'beach-19-5.jpg', 'beach-25-1.jpg', 'beach-29-8.jpg', 'beach-7-1.jpg', 'beach-21-1.jpg', 'beach-8-2.jpg', 'beach-12-1.jpg', 'beach-22-1.jpg', 'beach-4-4.png', 'beach-1-1.jpg', 'beach-10-5.jpg', 'beach-11-1.jpg', 'beach-24-1.jpg', 'beach-25-2.jpg', 'beach-1-4.jpg', 'beach-26-2.jpg', 'beach-1-3.jpg', 'beach-17-1.jpg', 'beach-29-1.jpg', 'beach-17-6.jpg', 'beach-26-1.jpg', 'beach-10-3.jpg', 'beach-8-4.jpg', 'beach-20-1.jpg', 'beach-28-1.jpg', 'beach-19-3.jpg', 'beach-17-4.jpg']\n",
            "testing\n",
            "['beach-28-7.jpg', 'beach-15-1.jpg', 'beach-4-1.png', 'beach-19-2.jpg', '.DS_Store', 'beach-8-3.jpg', 'beach-28-6.jpg', 'beach-28-5.jpg', 'beach-4-3.png', 'beach-4-2.png', 'beach-23-1.jpg', 'beach-27-1.jpg', 'beach-19-4.jpg', 'beach-5-1.jpg', 'beach-18-1.jpg', 'beach-6-4.jpg', 'beach-28-8.jpg', 'beach-10-2.jpg', 'beach-7-3.jpg', 'beach-17-3.jpg', 'beach-23-3.jpg', 'beach-17-2.jpg', 'beach-2-1.jpg']\n",
            "training\n",
            "['bungalow-23-2.jpg', 'bungalow-17-3.jpg', 'bungalow-14-7.jpg', 'bungalow-3-11.jpg', 'bungalow-21-5.jpg', 'bungalow-24-10.jpg', 'bungalow-26-4.jpg', 'bungalow-17-1.jpg', 'bungalow-14-1.jpg', 'bungalow-7-1.jpg', 'bungalow-15-1.jpg', 'bungalow-14-4.jpg', 'bungalow-20-2.jpg', 'bungalow-20-3.jpg', 'bungalow-22-8.jpg', 'bungalow-24-11.jpg', 'bungalow-22-1.jpg', 'bungalow-22-4.jpg', 'bungalow-8-1.jpg', 'bungalow-3-7.jpg', 'bungalow-15-2.jpg', 'bungalow-8-4.jpg', 'bungalow-24-8.jpg', 'bungalow-13-3.jpg', 'bungalow-8-3.jpg', 'bungalow-2-3.jpg', 'bungalow-3-2.jpg', 'bungalow-12-1.png', 'bungalow-11-2.jpg', 'bungalow-22-3.jpg', 'bungalow-4-3.jpg', 'bungalow-26-7.jpg', 'bungalow-3-3.jpg', 'bungalow-15-7.jpg', 'bungalow-7-2.jpg', 'bungalow-15-6.jpg', 'bungalow-5-1.jpg', 'bungalow-26-5.jpg', 'bungalow-14-6.jpg', 'bungalow-10-1.jpg', 'bungalow-16-2.jpg', 'bungalow-24-12.jpg', 'bungalow-22-7.jpg', 'bungalow-26-6.jpg', 'bungalow-8-2.jpg', 'bungalow-14-5.jpg', 'bungalow-11-1.jpg', 'bungalow-18-2.jpg', 'bungalow-25-2.jpg', 'bungalow-15-5.jpg', 'bungalow-24-4.jpg', 'bungalow-22-6.jpg', 'bungalow-19-1.jpg', 'bungalow-26-1.jpg', 'bungalow-6-1.jpg', 'bungalow-18-13.jpg', 'bungalow-21-3.jpg', 'bungalow-1-7.jpg', 'bungalow-2-4.jpg', 'bungalow-27-1.jpg', 'bungalow-3-10.jpg', 'bungalow-28-2.jpg', 'bungalow-3-1.jpg', 'bungalow-20-1.jpg', 'bungalow-14-3.jpg', 'bungalow-23-8.jpg', 'bungalow-21-1.jpg', 'bungalow-21-4.jpg', 'bungalow-2-1.jpg', 'bungalow-1-1.jpg', 'bungalow-23-1.jpg', 'bungalow-28-1.jpg', 'bungalow-1-3.jpg', 'bungalow-15-4.jpg', 'bungalow-4-4.jpg', 'bungalow-4-6.jpg', 'bungalow-22-5.jpg', 'bungalow-23-4.jpg', 'bungalow-13-1.jpg', 'bungalow-21-2.jpg', 'bungalow-24-1.jpg', 'bungalow-12-2.png', 'bungalow-24-7.jpg', 'bungalow-16-1.jpg', 'bungalow-24-3.jpg', 'bungalow-22-9.jpg', 'bungalow-1-6.jpg', 'bungalow-24-9.jpg']\n",
            "testing\n",
            "['bungalow-10-3.jpg', 'bungalow-1-2.jpg', 'bungalow-26-2.jpg', 'bungalow-2-2.jpg', 'bungalow-18-11.jpg', 'bungalow-4-2.jpg', 'bungalow-23-7.jpg', 'bungalow-7-3.jpg', 'bungalow-15-3.jpg', 'bungalow-18-1.jpg', 'bungalow-26-3.jpg', 'bungalow-18-12.jpg', 'bungalow-21-7.jpg', 'bungalow-24-2.jpg', 'bungalow-17-2.jpg', 'bungalow-22-2.jpg', 'bungalow-30-1.jpg', 'bungalow-1-5.jpg', 'bungalow-29-1.jpg', '.DS_Store', 'bungalow-2-5.jpg', 'bungalow-24-5.jpg', 'bungalow-4-1.jpg', 'bungalow-23-5.jpg', 'bungalow-24-6.jpg', 'bungalow-9-1.jpg', 'bungalow-6-6.jpg', 'bungalow-25-1.jpg', 'bungalow-23-3.jpg', 'bungalow-1-8.jpg', 'bungalow-1-4.jpg', 'bungalow-14-2.jpg', 'bungalow-13-2.jpg', 'bungalow-10-2.jpg', 'bungalow-3-8.jpg', 'bungalow-4-5.jpg', 'bungalow-3-4.jpg', 'bungalow-21-6.jpg', 'bungalow-23-6.jpg']\n",
            "training\n",
            "['classical-16-11.jpg', 'classical-30-2.jpg', 'classical-27-2.jpg', 'classical-15-18.jpg', 'classical-9-3.jpg', 'classical-25-5.jpg', 'classical-5-1.jpg', 'classical-15-2.jpg', 'classical-5-3.jpg', 'classical-18-2.jpg', 'classical-29-3.png', 'classical-1-1.png', 'classical-16-12.jpg', 'classical-15-1.jpg', 'classical-18-1.jpg', 'classical-25-7.jpg', 'classical-18-5.jpg', 'classical-13-1.jpg', 'classical-11-1.jpg', 'classical-8-1.jpg', 'classical-14-1.jpg', 'classical-21-2.jpg', 'classical-18-4.jpg', 'classical-15-4.jpg', 'classical-9-2.jpg', 'classical-9-4.jpg', 'classical-10-1.jpg', 'classical-14-2.gif', 'classical-3-1.jpg', 'classical-23-1.jpg', 'classical-6-1.jpg', 'classical-12-1.jpg', 'classical-7-1.jpg', 'classical-16-1.jpg', 'classical-15-7.jpg', 'classical-28-17.jpg', 'classical-25-2.jpg', 'classical-2-8.jpg', 'classical-5-4.jpg', 'classical-15-3.jpg', 'classical-25-1.jpg', 'classical-25-9.jpg', 'classical-23-2.jpg', 'classical-25-8.jpg', 'classical-22-1.jpg', 'classical-2-7.jpg', 'classical-28-2.jpg', 'classical-15-17.jpg', 'classical-17-2.gif', 'classical-6-5.jpg', 'classical-21-1.jpg', 'classical-25-3.jpg']\n",
            "testing\n",
            "['classical-16-3.jpg', 'classical-4-1.gif', 'classical-25-4.jpg', 'classical-19-1.gif', 'classical-30-1.jpg', 'classical-9-1.jpg', 'classical-27-1.jpg', 'classical-15-8.jpg', 'classical-6-6.jpg', 'classical-29-1.png', '.DS_Store', 'classical-28-1.jpg', 'classical-5-2.jpg', 'classical-27-3.jpg', 'classical-15-6.jpg', 'classical-20-1.jpg', 'classical-24-1.jpg', 'classical-17-1.jpg', 'classical-29-4.png', 'classical-29-2.png', 'classical-2-1.jpg', 'classical-18-3.jpg', 'classical-15-13.jpg']\n",
            "training\n",
            "['colonial-24-1.jpg', 'colonial-30-1.jpg', 'colonial-21-1.jpg', 'colonial-14-1.jpg', 'colonial-3-2.jpg', 'colonial-3-4.jpg', 'colonial-3-3.jpg', 'colonial-5-1.jpg', 'colonial-20-1.jpg', 'colonial-11-6.jpg', 'colonial-13-2.jpg', 'colonial-7-2.jpg', 'colonial-7-3.jpg', 'colonial-24-3.jpg', 'colonial-9-1.jpg', 'colonial-22-2.jpg', 'colonial-28-1.jpg', 'colonial-29-1.jpg', 'colonial-9-3.jpg', 'colonial-14-2.jpg', 'colonial-28-5.jpg', 'colonial-2-1.jpg', 'colonial-24-2.jpg', 'colonial-17-5.jpg', 'colonial-11-5.jpg', 'colonial-17-2.jpg', 'colonial-11-3.jpg', 'colonial-5-3.jpg', 'colonial-17-3.jpg', 'colonial-25-1.jpg', 'colonial-22-3.jpg', 'colonial-14-3.jpg', 'colonial-17-4.jpg', 'colonial-15-1.jpg', 'colonial-1-1.jpg', 'colonial-20-2.jpg', 'colonial-8-1.jpg', 'colonial-27-1.jpg', 'colonial-15-2.jpg', 'colonial-22-1.jpg', 'colonial-11-1.jpg', 'colonial-19-1.jpg', 'colonial-4-3.jpg', 'colonial-4-1.jpg']\n",
            "testing\n",
            "['colonial-4-2.jpg', 'colonial-30-2.jpg', 'colonial-13-1.jpg', 'colonial-17-1.jpg', 'colonial-3-1.jpg', 'colonial-23-1.jpg', 'colonial-6-1.jpg', '.DS_Store', 'colonial-13-3.jpg', 'colonial-2-3.jpg', 'colonial-10-1.jpg', 'colonial-16-1.jpg', 'colonial-26-1.jpg', 'colonial-7-1.jpg', 'colonial-11-2.jpg', 'colonial-18-2.jpg', 'colonial-5-2.jpg', 'colonial-12-1.png', 'colonial-2-2.jpg', 'colonial-18-1.jpg']\n",
            "training\n",
            "['country-23-5.jpg', 'country-8-8.jpg', 'country-12-27.jpg', 'country-8-1.jpg', 'country-17-3.jpg', 'country-28-2.jpg', 'country-29-10.jpg', 'country-19-4.jpg', 'country-15-1.jpg', 'country-28-9.jpg', 'country-12-28.jpg', 'country-8-2.jpg', 'country-2-21.jpg', 'country-6-1.jpg', 'country-3-29.jpg', 'country-5-16.jpg', 'country-29-6.jpg', 'country-13-4.jpg', 'country-28-4.jpg', 'country-10-2.jpg', 'country-13-2.jpg', 'country-9-1.jpg', 'country-29-3.jpg', 'country-28-3.jpg', 'country-19-2.jpg', 'country-27-1.jpg', 'country-3-1.jpg', 'country-14-2.jpg', 'country-11-1.jpg', 'country-28-5.jpg', 'country-16-17.jpg', 'country-26-1.jpg', 'country-30-2.jpg', 'country-14-5.jpg', 'country-29-9.jpg', 'country-5-15.jpg', 'country-3-4.jpg', 'country-18-1.jpg', 'country-23-4.jpg', 'country-10-4.jpg', 'country-28-7.jpg', 'country-12-61.jpg', 'country-25-2.jpg', 'country-3-26.jpg', 'country-20-1.jpg', 'country-29-1.jpg', 'country-28-10.jpg', 'country-5-2.jpg', 'country-19-5.jpg', 'country-10-3.jpg', 'country-5-14.jpg', 'country-13-1.jpg', 'country-21-1.jpg', 'country-10-1.jpg', 'country-14-4.jpg', 'country-23-6.jpg', 'country-29-8.jpg', 'country-19-3.jpg', 'country-30-1.jpg', 'country-19-1.jpg', 'country-28-6.jpg', 'country-3-3.jpg', 'country-13-3.jpg', 'country-3-27.jpg', 'country-12-1.jpg', 'country-5-1.jpg', 'country-25-1.jpg']\n",
            "testing\n",
            "['country-26-2.jpg', 'country-14-3.jpg', 'country-3-23.jpg', 'country-16-2.jpg', 'country-29-2.jpg', 'country-22-1.jpg', 'country-3-28.jpg', 'country-16-1.jpg', '.DS_Store', 'country-2-1.jpg', 'country-17-1.jpg', 'country-3-30.jpg', 'country-7-1.jpg', 'country-4-1.jpg', 'country-13-5.jpg', 'country-3-24.jpg', 'country-14-1.jpg', 'country-24-1.jpg', 'country-1-1.jpg', 'country-29-7.jpg', 'country-29-5.jpg', 'country-28-8.jpg', 'country-17-2.jpg', 'country-29-11.jpg', 'country-29-4.jpg', 'country-28-1.jpg', 'country-23-2.jpg', 'country-23-1.jpg', 'country-23-3.jpg']\n",
            "training\n",
            "['european-28-8.jpg', 'european-17-8.jpg', 'european-12-4.jpg', 'european-13-2.jpg', 'european-13-11.jpg', 'european-30-1.jpg', 'european-26-2.jpg', 'european-28-1.jpg', 'european-1-5.jpg', 'european-14-2.jpg', 'european-23-2.jpg', 'european-13-13.jpg', 'european-20-2.jpg', 'european-13-16.jpg', 'european-21-1.jpg', 'european-9-4.jpg', 'european-3-1.jpg', 'european-13-21.jpg', 'european-13-10.jpg', 'european-5-2.jpg', 'european-11-1.jpg', 'european-20-4.jpg', 'european-13-14.jpg', 'european-16-18.jpg', 'european-27-5.jpg', 'european-17-7.jpg', 'european-19-1.jpg', 'european-20-3.jpg', 'european-2-4.jpg', 'european-29-16.jpg', 'european-18-1.jpg', 'european-7-1.jpg', 'european-21-3.jpg', 'european-23-21.jpg', 'european-24-6.jpg', 'european-17-6.jpg', 'european-28-4.jpg', 'european-17-2.jpg', 'european-17-9.jpg', 'european-26-1.jpg', 'european-22-3.jpg', 'european-13-6.jpg', 'european-29-9.jpg', 'european-24-23.jpg', 'european-28-38.jpg', 'european-15-2.jpg', 'european-29-2.jpg', 'european-17-3.jpg', 'european-13-3.jpg', 'european-23-20.jpg', 'european-16-1.jpg', 'european-17-4.jpg', 'european-24-4.jpg', 'european-7-2.jpg', 'european-9-2.jpg', 'european-24-5.jpg', 'european-22-2.jpg', 'european-13-19.jpg', 'european-1-3.jpg', 'european-28-6.jpg', 'european-13-24.jpg', 'european-24-3.jpg', 'european-23-1.jpg', 'european-24-22.jpg', 'european-25-1.jpg', 'european-26-16.jpg', 'european-16-2.jpg', 'european-13-20.jpg', 'european-13-17.jpg', 'european-13-8.jpg', 'european-18-4.jpg', 'european-21-2.jpg', 'european-10-1.jpg', 'european-2-3.jpg', 'european-10-2.jpg', 'european-13-1.jpg', 'european-16-4.jpg', 'european-2-5.jpg', 'european-5-1.jpg', 'european-27-1.jpg', 'european-24-1.jpg', 'european-12-1.jpg', 'european-16-3.jpg', 'european-9-3.jpg', 'european-9-1.jpg', 'european-17-5.jpg', 'european-18-2.jpg', 'european-16-17.jpg']\n",
            "testing\n",
            "['european-28-10.jpg', 'european-6-1.jpg', 'european-13-9.jpg', 'european-17-1.jpg', 'european-27-7.jpg', 'european-8-1.jpg', 'european-24-2.jpg', 'european-13-23.jpg', 'european-28-5.jpg', '.DS_Store', 'european-1-1.jpg', 'european-22-1.jpg', 'european-11-2.jpg', 'european-29-1.jpg', 'european-29-8.jpg', 'european-14-1.jpg', 'european-20-1.jpg', 'european-28-3.jpg', 'european-28-2.jpg', 'european-2-1.jpg', 'european-6-2.jpg', 'european-13-7.jpg', 'european-15-1.jpg', 'european-29-17.jpg', 'european-18-3.jpg', 'european-1-2.jpg', 'european-2-2.jpg', 'european-13-22.jpg', 'european-13-15.jpg', 'european-4-1.jpg', 'european-14-3.jpg', 'european-26-17.jpg', 'european-13-5.jpg', 'european-28-11.jpg', 'european-7-3.jpg', 'european-13-4.jpg', 'european-13-18.jpg', 'european-13-12.jpg']\n",
            "training\n",
            "['mediterranean-11-2.jpg', 'mediterranean-22-3.jpg', 'mediterranean-27-2.jpg', 'mediterranean-16-1.jpg', 'mediterranean-26-1.jpg', 'mediterranean-13-2.jpg', 'mediterranean-4-2.jpg', 'mediterranean-13-1.jpg', 'mediterranean-16-4.jpg', 'mediterranean-7-1.jpg', 'mediterranean-11-1.jpg', 'mediterranean-16-5.jpg', 'mediterranean-6-1.jpg', 'mediterranean-25-6.jpg', 'mediterranean-5-1.jpg', 'mediterranean-16-2.jpg', 'mediterranean-30-1.jpg', 'mediterranean-22-4.jpg', 'mediterranean-19-2.jpg', 'mediterranean-18-10.jpg', 'mediterranean-3-4.jpg', 'mediterranean-13-3.jpg', 'mediterranean-5-2.jpg', 'mediterranean-29-1.jpg', 'mediterranean-9-1.jpg', 'mediterranean-25-5.jpg', 'mediterranean-15-3.jpg', 'mediterranean-8-1.jpg', 'mediterranean-5-7.jpg', 'mediterranean-27-38.jpg', 'mediterranean-10-11.jpg', 'mediterranean-22-2.jpg', 'mediterranean-27-1.jpg', 'mediterranean-18-1.jpg', 'mediterranean-16-7.jpg', 'mediterranean-24-3.jpg', 'mediterranean-4-1.jpg', 'mediterranean-19-1.jpg', 'mediterranean-21-1.jpg', 'mediterranean-28-1.jpg', 'mediterranean-3-1.jpg', 'mediterranean-13-10.jpg', 'mediterranean-20-1.jpg', 'mediterranean-24-4.jpg', 'mediterranean-24-2.jpg', 'mediterranean-22-9.jpg', 'mediterranean-25-1.jpg', 'mediterranean-1-1.jpg', 'mediterranean-22-1.jpg', 'mediterranean-2-1.jpg']\n",
            "testing\n",
            "['mediterranean-10-12.jpg', 'mediterranean-29-3.jpg', '.DS_Store', 'mediterranean-25-4.jpg', 'mediterranean-16-3.jpg', 'mediterranean-29-18.jpg', 'mediterranean-12-1.jpg', 'mediterranean-23-1.jpg', 'mediterranean-15-2.jpg', 'mediterranean-15-1.jpg', 'mediterranean-16-8.jpg', 'mediterranean-29-2.jpg', 'mediterranean-29-4.jpg', 'mediterranean-3-2.jpg', 'mediterranean-3-3.jpg', 'mediterranean-16-6.jpg', 'mediterranean-24-22.jpg', 'mediterranean-13-11.jpg', 'mediterranean-10-1.jpg', 'mediterranean-24-1.jpg', 'mediterranean-29-5.jpg', 'mediterranean-27-4.jpg']\n",
            "training\n",
            "['modern-2-3.jpg', 'modern-5-2.jpg', 'modern-2-4.jpg', 'modern-21-1.jpg', 'modern-7-2.jpg', 'modern-4-3.jpg', 'modern-15-1.jpg', 'modern-10-2.jpg', 'modern-22-2.png', 'modern-2-1.jpg', 'modern-1-8.jpg', 'modern-28-2.jpg', 'modern-27-1.jpg', 'modern-15-2.jpg', 'modern-8-5.jpg', 'modern-6-2.jpg', 'modern-19-3.jpg', 'modern-22-4.png', 'modern-28-6.jpg', 'modern-21-2.jpg', 'modern-11-2.jpg', 'modern-28-11.jpg', 'modern-28-9.jpg', 'modern-3-1.jpg', 'modern-1-3.jpg', 'modern-10-8.jpg', 'modern-27-4.jpg', 'modern-1-9.jpg', 'modern-24-1.jpg', 'modern-25-3.jpg', 'modern-13-4.jpg', 'modern-24-2.jpg', 'modern-1-6.jpg', 'modern-25-1.jpg', 'modern-11-1.jpg', 'modern-28-10.jpg', 'modern-9-2.jpg', 'modern-15-3.jpg', 'modern-3-4.jpg', 'modern-12-1.jpg', 'modern-16-3.jpg', 'modern-4-4.jpg', 'modern-20-1.jpg', 'modern-30-5.jpg', 'modern-9-1.jpg', 'modern-17-3.jpg', 'modern-5-1.jpg', 'modern-17-4.jpg', 'modern-21-3.jpg', 'modern-24-3.jpg', 'modern-1-5.jpg', 'modern-13-3.jpg', 'modern-1-4.jpg', 'modern-16-1.jpg', 'modern-2-2.jpg', 'modern-30-2.jpg', 'modern-4-2.jpg', 'modern-30-8.jpg', 'modern-10-3.jpg', 'modern-21-6.jpg', 'modern-30-7.jpg', 'modern-23-2.jpg', 'modern-25-2.jpg', 'modern-28-1.jpg', 'modern-6-3.jpg', 'modern-22-1.png', 'modern-22-3.png', 'modern-3-2.jpg', 'modern-13-1.jpg', 'modern-3-3.jpg', 'modern-14-1.png', 'modern-2-5.jpg', 'modern-10-7.jpg', 'modern-18-1.jpg', 'modern-12-3.jpg', 'modern-30-1.jpg', 'modern-26-1.jpg', 'modern-1-7.jpg', 'modern-27-5.jpg', 'modern-13-5.jpg', 'modern-1-11.jpg', 'modern-6-6.jpg', 'modern-27-6.jpg']\n",
            "testing\n",
            "['modern-8-2.jpg', 'modern-27-3.jpg', 'modern-13-2.jpg', 'modern-17-5.jpg', 'modern-27-2.jpg', 'modern-17-1.jpg', 'modern-18-2.jpg', 'modern-6-4.jpg', 'modern-28-7.jpg', 'modern-17-2.jpg', '.DS_Store', 'modern-10-5.jpg', 'modern-1-10.jpg', 'modern-7-1.jpg', 'modern-8-4.jpg', 'modern-8-3.jpg', 'modern-4-1.jpg', 'modern-10-1.jpg', 'modern-16-2.jpg', 'modern-8-1.jpg', 'modern-23-1.jpg', 'modern-28-5.jpg', 'modern-1-2.jpg', 'modern-12-2.jpg', 'modern-19-1.jpg', 'modern-30-6.jpg', 'modern-1-1.jpg', 'modern-26-5.jpg', 'modern-6-1.jpg', 'modern-10-4.jpg', 'modern-28-3.jpg', 'modern-10-6.jpg', 'modern-28-4.jpg', 'modern-19-4.jpg', 'modern-29-1.jpg', 'modern-28-8.jpg']\n",
            "training\n",
            "['southern-21-1.jpg', 'southern-5-2.jpg', 'southern-12-1.jpg', 'southern-9-2.jpg', 'southern-20-3.jpg', 'southern-8-1.jpg', 'southern-22-6.jpg', 'southern-16-1.jpg', 'southern-11-1.jpg', 'southern-15-1.jpg', 'southern-30-2.jpg', 'southern-11-2.jpg', 'southern-5-1.jpg', 'southern-29-1.jpg', 'southern-4-3.jpg', 'southern-4-1.jpg', 'southern-22-10.jpg', 'southern-18-1.jpg', 'southern-13-2.png', 'southern-22-1.jpg', 'southern-10-2.jpg', 'southern-22-7.jpg', 'southern-17-1.jpg', 'southern-3-3.jpg', 'southern-2-1.jpg', 'southern-30-1.jpg', 'southern-25-2.jpg', 'southern-1-1.jpg', 'southern-22-8.jpg', 'southern-22-9.jpg', 'southern-6-1.jpg', 'southern-3-1.jpg', 'southern-13-1.png', 'southern-9-3.jpg', 'southern-3-2.jpg', 'southern-24-1.jpg', 'southern-27-1.jpg', 'southern-22-5.jpg', 'southern-19-2.jpg', 'southern-22-2.jpg', 'southern-20-1.jpg', 'southern-26-1.jpg', 'southern-28-2.jpg', 'southern-7-2.jpg', 'southern-28-1.jpg', 'southern-14-1.jpg', 'southern-23-1.jpg', 'southern-10-1.jpg', 'southern-26-4.jpg']\n",
            "testing\n",
            "['southern-15-3.jpg', 'southern-20-2.jpg', 'southern-22-4.jpg', 'southern-3-16.jpg', 'southern-15-5.jpg', '.DS_Store', 'southern-22-3.jpg', 'southern-7-1.jpg', 'southern-15-4.jpg', 'southern-26-3.jpg', 'southern-27-2.jpg', 'southern-19-1.jpg', 'southern-24-2.jpg', 'southern-15-2.jpg', 'southern-2-2.jpg', 'southern-26-2.jpg', 'southern-2-3.jpg', 'southern-1-2.jpg', 'southern-16-17.jpg', 'southern-25-1.jpg', 'southern-9-1.jpg']\n",
            "training\n",
            "['victorian-8-3.jpg', 'victorian-22-28.jpg', 'victorian-19-1.jpg', 'victorian-14-1.jpg', 'victorian-13-2.jpg', 'victorian-17-7.jpg', 'victorian-26-1.jpg', 'victorian-12-2.jpg', 'victorian-30-2.jpg', 'victorian-21-1.jpg', 'victorian-13-1.jpg', 'victorian-20-2.jpg', 'victorian-2-1.jpg', 'victorian-11-1.jpg', 'victorian-29-1.jpg', 'victorian-17-8.jpg', 'victorian-19-3.jpg', 'victorian-17-3.jpg', 'victorian-17-2.jpg', 'victorian-10-1.jpg', 'victorian-16-1.jpg', 'victorian-4-1.png', 'victorian-9-1.jpg', 'victorian-17-9.jpg', 'victorian-7-1.jpg', 'victorian-28-1.jpg', 'victorian-22-1.jpg', 'victorian-24-12.jpg', 'victorian-20-1.jpg', 'victorian-19-2.jpg', 'victorian-1-2.jpg', 'victorian-2-2.jpg', 'victorian-17-5.jpg', 'victorian-6-1.jpg', 'victorian-17-4.jpg', 'victorian-27-1.jpg', 'victorian-12-4.jpg', 'victorian-1-1.jpg', 'victorian-30-1.jpg', 'victorian-3-1.jpg', 'victorian-1-26.jpg', 'victorian-1-28.jpg', 'victorian-19-4.jpg', 'victorian-22-8.jpg', 'victorian-1-3.jpg']\n",
            "testing\n",
            "['victorian-17-6.jpg', 'victorian-17-1.jpg', 'victorian-8-1.jpg', 'victorian-24-1.jpg', 'victorian-22-3.jpg', 'victorian-12-1.jpg', '.DS_Store', 'victorian-1-27.jpg', 'victorian-5-1.jpg', 'victorian-24-2.jpg', 'victorian-28-3.jpg', 'victorian-15-1.jpg', 'victorian-18-1.jpg', 'victorian-12-5.jpg', 'victorian-7-2.jpg', 'victorian-8-2.jpg', 'victorian-12-3.jpg', 'victorian-1-29.jpg', 'victorian-22-2.jpg', 'victorian-25-1.jpg']\n"
          ],
          "name": "stdout"
        }
      ]
    },
    {
      "cell_type": "code",
      "metadata": {
        "id": "8PGaQdzTMPT7",
        "colab_type": "code",
        "colab": {
          "base_uri": "https://localhost:8080/",
          "height": 459
        },
        "outputId": "be6728b0-813a-49a4-f72a-881080c1e679"
      },
      "source": [
        "import tensorflow as tf\n",
        "from tensorflow.keras.layers import Conv2D\n",
        "from tensorflow.keras.layers import MaxPooling2D\n",
        "from tensorflow.keras.layers import Flatten\n",
        "from tensorflow.keras.layers import Dense\n",
        "from tensorflow.keras.layers import Dropout\n",
        "from tensorflow.keras.optimizers import RMSprop\n",
        "\n",
        "model = tf.keras.models.Sequential([\n",
        "    Conv2D(16, (3, 3), input_shape=(180, 120, 3)),\n",
        "    MaxPooling2D(2, 2),\n",
        "    Conv2D(32, (3, 3)),\n",
        "    MaxPooling2D(2, 2),\n",
        "    Conv2D(64, (3, 3)),\n",
        "    # MaxPooling2D(2, 2),\n",
        "    # Conv2D(128, (3, 3)),\n",
        "    Flatten(),\n",
        "    Dense(1024, activation='relu'),\n",
        "    # Dropout(0.2),\n",
        "    Dense(512, activation='relu'),\n",
        "    # Dense(256),\n",
        "    Dense(len(styles), activation='softmax'),\n",
        "])\n",
        "\n",
        "model.summary()\n",
        "model.compile(optimizer=RMSprop(lr=0.001), loss='categorical_crossentropy', metrics=['accuracy'])"
      ],
      "execution_count": 77,
      "outputs": [
        {
          "output_type": "stream",
          "text": [
            "Model: \"sequential_7\"\n",
            "_________________________________________________________________\n",
            "Layer (type)                 Output Shape              Param #   \n",
            "=================================================================\n",
            "conv2d_22 (Conv2D)           (None, 178, 118, 16)      448       \n",
            "_________________________________________________________________\n",
            "max_pooling2d_16 (MaxPooling (None, 89, 59, 16)        0         \n",
            "_________________________________________________________________\n",
            "conv2d_23 (Conv2D)           (None, 87, 57, 32)        4640      \n",
            "_________________________________________________________________\n",
            "max_pooling2d_17 (MaxPooling (None, 43, 28, 32)        0         \n",
            "_________________________________________________________________\n",
            "conv2d_24 (Conv2D)           (None, 41, 26, 64)        18496     \n",
            "_________________________________________________________________\n",
            "flatten_5 (Flatten)          (None, 68224)             0         \n",
            "_________________________________________________________________\n",
            "dense_20 (Dense)             (None, 1024)              69862400  \n",
            "_________________________________________________________________\n",
            "dense_21 (Dense)             (None, 512)               524800    \n",
            "_________________________________________________________________\n",
            "dense_22 (Dense)             (None, 12)                6156      \n",
            "=================================================================\n",
            "Total params: 70,416,940\n",
            "Trainable params: 70,416,940\n",
            "Non-trainable params: 0\n",
            "_________________________________________________________________\n"
          ],
          "name": "stdout"
        }
      ]
    },
    {
      "cell_type": "code",
      "metadata": {
        "id": "Krjy6HrlUDL8",
        "colab_type": "code",
        "colab": {
          "base_uri": "https://localhost:8080/",
          "height": 51
        },
        "outputId": "1b50990b-55c8-40a0-e693-509bf75cca95"
      },
      "source": [
        "from tensorflow.keras.preprocessing.image import ImageDataGenerator\n",
        "\n",
        "batch_size = 10\n",
        "\n",
        "TRAINING_DIR = '/data/training'\n",
        "train_datagen = ImageDataGenerator(\n",
        "    rescale=1.0/255.0, \n",
        "    rotation_range=40,\n",
        "    width_shift_range=0.2,\n",
        "    height_shift_range=0.2,\n",
        "    shear_range=0.2,\n",
        "    zoom_range=0.2,\n",
        "    horizontal_flip=True,\n",
        "    fill_mode='nearest'\n",
        ")\n",
        "\n",
        "train_generator = train_datagen.flow_from_directory(TRAINING_DIR, \n",
        "                                                    batch_size=batch_size,\n",
        "                                                    target_size=(180, 120))\n",
        "\n",
        "VALIDATION_DIR = '/data/testing'\n",
        "validation_datagen = ImageDataGenerator(\n",
        "    rescale=1.0/255.0, \n",
        "    rotation_range=40,\n",
        "    width_shift_range=0.2,\n",
        "    height_shift_range=0.2,\n",
        "    shear_range=0.2,\n",
        "    zoom_range=0.2,\n",
        "    horizontal_flip=True,\n",
        "    fill_mode='nearest'\n",
        ")\n",
        "\n",
        "validation_generator = validation_datagen.flow_from_directory(VALIDATION_DIR,\n",
        "                                                              batch_size=batch_size,\n",
        "                                                              target_size=(180, 120))"
      ],
      "execution_count": 78,
      "outputs": [
        {
          "output_type": "stream",
          "text": [
            "Found 780 images belonging to 12 classes.\n",
            "Found 328 images belonging to 12 classes.\n"
          ],
          "name": "stdout"
        }
      ]
    },
    {
      "cell_type": "code",
      "metadata": {
        "id": "wzjFPlzyVzTd",
        "colab_type": "code",
        "colab": {
          "base_uri": "https://localhost:8080/",
          "height": 443
        },
        "outputId": "94467e5e-6542-4435-be21-4a4744ba1e92"
      },
      "source": [
        "STEP_SIZE_TRAIN=train_generator.n//train_generator.batch_size\n",
        "STEP_SIZE_VALID=validation_generator.n//validation_generator.batch_size\n",
        "\n",
        "history = model.fit_generator(train_generator,\n",
        "                              epochs=200,\n",
        "                              steps_per_epoch=STEP_SIZE_TRAIN,\n",
        "                              validation_steps=STEP_SIZE_VALID,\n",
        "                              validation_data=validation_generator)"
      ],
      "execution_count": 79,
      "outputs": [
        {
          "output_type": "stream",
          "text": [
            "Epoch 1/200\n",
            "78/78 [==============================] - 71s 914ms/step - loss: 9.6577 - accuracy: 0.1051 - val_loss: 2.4982 - val_accuracy: 0.0969\n",
            "Epoch 2/200\n",
            "78/78 [==============================] - 71s 915ms/step - loss: 2.7726 - accuracy: 0.1103 - val_loss: 2.4568 - val_accuracy: 0.1500\n",
            "Epoch 3/200\n",
            "15/78 [====>.........................] - ETA: 50s - loss: 2.6698 - accuracy: 0.1200"
          ],
          "name": "stdout"
        },
        {
          "output_type": "error",
          "ename": "KeyboardInterrupt",
          "evalue": "ignored",
          "traceback": [
            "\u001b[0;31m---------------------------------------------------------------------------\u001b[0m",
            "\u001b[0;31mKeyboardInterrupt\u001b[0m                         Traceback (most recent call last)",
            "\u001b[0;32m<ipython-input-79-661c5e06bdb5>\u001b[0m in \u001b[0;36m<module>\u001b[0;34m()\u001b[0m\n\u001b[1;32m      6\u001b[0m                               \u001b[0msteps_per_epoch\u001b[0m\u001b[0;34m=\u001b[0m\u001b[0mSTEP_SIZE_TRAIN\u001b[0m\u001b[0;34m,\u001b[0m\u001b[0;34m\u001b[0m\u001b[0;34m\u001b[0m\u001b[0m\n\u001b[1;32m      7\u001b[0m                               \u001b[0mvalidation_steps\u001b[0m\u001b[0;34m=\u001b[0m\u001b[0mSTEP_SIZE_VALID\u001b[0m\u001b[0;34m,\u001b[0m\u001b[0;34m\u001b[0m\u001b[0;34m\u001b[0m\u001b[0m\n\u001b[0;32m----> 8\u001b[0;31m                               validation_data=validation_generator)\n\u001b[0m",
            "\u001b[0;32m/usr/local/lib/python3.6/dist-packages/tensorflow/python/util/deprecation.py\u001b[0m in \u001b[0;36mnew_func\u001b[0;34m(*args, **kwargs)\u001b[0m\n\u001b[1;32m    322\u001b[0m               \u001b[0;34m'in a future version'\u001b[0m \u001b[0;32mif\u001b[0m \u001b[0mdate\u001b[0m \u001b[0;32mis\u001b[0m \u001b[0;32mNone\u001b[0m \u001b[0;32melse\u001b[0m \u001b[0;34m(\u001b[0m\u001b[0;34m'after %s'\u001b[0m \u001b[0;34m%\u001b[0m \u001b[0mdate\u001b[0m\u001b[0;34m)\u001b[0m\u001b[0;34m,\u001b[0m\u001b[0;34m\u001b[0m\u001b[0;34m\u001b[0m\u001b[0m\n\u001b[1;32m    323\u001b[0m               instructions)\n\u001b[0;32m--> 324\u001b[0;31m       \u001b[0;32mreturn\u001b[0m \u001b[0mfunc\u001b[0m\u001b[0;34m(\u001b[0m\u001b[0;34m*\u001b[0m\u001b[0margs\u001b[0m\u001b[0;34m,\u001b[0m \u001b[0;34m**\u001b[0m\u001b[0mkwargs\u001b[0m\u001b[0;34m)\u001b[0m\u001b[0;34m\u001b[0m\u001b[0;34m\u001b[0m\u001b[0m\n\u001b[0m\u001b[1;32m    325\u001b[0m     return tf_decorator.make_decorator(\n\u001b[1;32m    326\u001b[0m         \u001b[0mfunc\u001b[0m\u001b[0;34m,\u001b[0m \u001b[0mnew_func\u001b[0m\u001b[0;34m,\u001b[0m \u001b[0;34m'deprecated'\u001b[0m\u001b[0;34m,\u001b[0m\u001b[0;34m\u001b[0m\u001b[0;34m\u001b[0m\u001b[0m\n",
            "\u001b[0;32m/usr/local/lib/python3.6/dist-packages/tensorflow/python/keras/engine/training.py\u001b[0m in \u001b[0;36mfit_generator\u001b[0;34m(self, generator, steps_per_epoch, epochs, verbose, callbacks, validation_data, validation_steps, validation_freq, class_weight, max_queue_size, workers, use_multiprocessing, shuffle, initial_epoch)\u001b[0m\n\u001b[1;32m   1480\u001b[0m         \u001b[0muse_multiprocessing\u001b[0m\u001b[0;34m=\u001b[0m\u001b[0muse_multiprocessing\u001b[0m\u001b[0;34m,\u001b[0m\u001b[0;34m\u001b[0m\u001b[0;34m\u001b[0m\u001b[0m\n\u001b[1;32m   1481\u001b[0m         \u001b[0mshuffle\u001b[0m\u001b[0;34m=\u001b[0m\u001b[0mshuffle\u001b[0m\u001b[0;34m,\u001b[0m\u001b[0;34m\u001b[0m\u001b[0;34m\u001b[0m\u001b[0m\n\u001b[0;32m-> 1482\u001b[0;31m         initial_epoch=initial_epoch)\n\u001b[0m\u001b[1;32m   1483\u001b[0m \u001b[0;34m\u001b[0m\u001b[0m\n\u001b[1;32m   1484\u001b[0m   @deprecation.deprecated(\n",
            "\u001b[0;32m/usr/local/lib/python3.6/dist-packages/tensorflow/python/keras/engine/training.py\u001b[0m in \u001b[0;36m_method_wrapper\u001b[0;34m(self, *args, **kwargs)\u001b[0m\n\u001b[1;32m     64\u001b[0m   \u001b[0;32mdef\u001b[0m \u001b[0m_method_wrapper\u001b[0m\u001b[0;34m(\u001b[0m\u001b[0mself\u001b[0m\u001b[0;34m,\u001b[0m \u001b[0;34m*\u001b[0m\u001b[0margs\u001b[0m\u001b[0;34m,\u001b[0m \u001b[0;34m**\u001b[0m\u001b[0mkwargs\u001b[0m\u001b[0;34m)\u001b[0m\u001b[0;34m:\u001b[0m\u001b[0;34m\u001b[0m\u001b[0;34m\u001b[0m\u001b[0m\n\u001b[1;32m     65\u001b[0m     \u001b[0;32mif\u001b[0m \u001b[0;32mnot\u001b[0m \u001b[0mself\u001b[0m\u001b[0;34m.\u001b[0m\u001b[0m_in_multi_worker_mode\u001b[0m\u001b[0;34m(\u001b[0m\u001b[0;34m)\u001b[0m\u001b[0;34m:\u001b[0m  \u001b[0;31m# pylint: disable=protected-access\u001b[0m\u001b[0;34m\u001b[0m\u001b[0;34m\u001b[0m\u001b[0m\n\u001b[0;32m---> 66\u001b[0;31m       \u001b[0;32mreturn\u001b[0m \u001b[0mmethod\u001b[0m\u001b[0;34m(\u001b[0m\u001b[0mself\u001b[0m\u001b[0;34m,\u001b[0m \u001b[0;34m*\u001b[0m\u001b[0margs\u001b[0m\u001b[0;34m,\u001b[0m \u001b[0;34m**\u001b[0m\u001b[0mkwargs\u001b[0m\u001b[0;34m)\u001b[0m\u001b[0;34m\u001b[0m\u001b[0;34m\u001b[0m\u001b[0m\n\u001b[0m\u001b[1;32m     67\u001b[0m \u001b[0;34m\u001b[0m\u001b[0m\n\u001b[1;32m     68\u001b[0m     \u001b[0;31m# Running inside `run_distribute_coordinator` already.\u001b[0m\u001b[0;34m\u001b[0m\u001b[0;34m\u001b[0m\u001b[0;34m\u001b[0m\u001b[0m\n",
            "\u001b[0;32m/usr/local/lib/python3.6/dist-packages/tensorflow/python/keras/engine/training.py\u001b[0m in \u001b[0;36mfit\u001b[0;34m(self, x, y, batch_size, epochs, verbose, callbacks, validation_split, validation_data, shuffle, class_weight, sample_weight, initial_epoch, steps_per_epoch, validation_steps, validation_batch_size, validation_freq, max_queue_size, workers, use_multiprocessing, **kwargs)\u001b[0m\n\u001b[1;32m    849\u001b[0m                 batch_size=batch_size):\n\u001b[1;32m    850\u001b[0m               \u001b[0mcallbacks\u001b[0m\u001b[0;34m.\u001b[0m\u001b[0mon_train_batch_begin\u001b[0m\u001b[0;34m(\u001b[0m\u001b[0mstep\u001b[0m\u001b[0;34m)\u001b[0m\u001b[0;34m\u001b[0m\u001b[0;34m\u001b[0m\u001b[0m\n\u001b[0;32m--> 851\u001b[0;31m               \u001b[0mtmp_logs\u001b[0m \u001b[0;34m=\u001b[0m \u001b[0mtrain_function\u001b[0m\u001b[0;34m(\u001b[0m\u001b[0miterator\u001b[0m\u001b[0;34m)\u001b[0m\u001b[0;34m\u001b[0m\u001b[0;34m\u001b[0m\u001b[0m\n\u001b[0m\u001b[1;32m    852\u001b[0m               \u001b[0;31m# Catch OutOfRangeError for Datasets of unknown size.\u001b[0m\u001b[0;34m\u001b[0m\u001b[0;34m\u001b[0m\u001b[0;34m\u001b[0m\u001b[0m\n\u001b[1;32m    853\u001b[0m               \u001b[0;31m# This blocks until the batch has finished executing.\u001b[0m\u001b[0;34m\u001b[0m\u001b[0;34m\u001b[0m\u001b[0;34m\u001b[0m\u001b[0m\n",
            "\u001b[0;32m/usr/local/lib/python3.6/dist-packages/tensorflow/python/eager/def_function.py\u001b[0m in \u001b[0;36m__call__\u001b[0;34m(self, *args, **kwds)\u001b[0m\n\u001b[1;32m    578\u001b[0m         \u001b[0mxla_context\u001b[0m\u001b[0;34m.\u001b[0m\u001b[0mExit\u001b[0m\u001b[0;34m(\u001b[0m\u001b[0;34m)\u001b[0m\u001b[0;34m\u001b[0m\u001b[0;34m\u001b[0m\u001b[0m\n\u001b[1;32m    579\u001b[0m     \u001b[0;32melse\u001b[0m\u001b[0;34m:\u001b[0m\u001b[0;34m\u001b[0m\u001b[0;34m\u001b[0m\u001b[0m\n\u001b[0;32m--> 580\u001b[0;31m       \u001b[0mresult\u001b[0m \u001b[0;34m=\u001b[0m \u001b[0mself\u001b[0m\u001b[0;34m.\u001b[0m\u001b[0m_call\u001b[0m\u001b[0;34m(\u001b[0m\u001b[0;34m*\u001b[0m\u001b[0margs\u001b[0m\u001b[0;34m,\u001b[0m \u001b[0;34m**\u001b[0m\u001b[0mkwds\u001b[0m\u001b[0;34m)\u001b[0m\u001b[0;34m\u001b[0m\u001b[0;34m\u001b[0m\u001b[0m\n\u001b[0m\u001b[1;32m    581\u001b[0m \u001b[0;34m\u001b[0m\u001b[0m\n\u001b[1;32m    582\u001b[0m     \u001b[0;32mif\u001b[0m \u001b[0mtracing_count\u001b[0m \u001b[0;34m==\u001b[0m \u001b[0mself\u001b[0m\u001b[0;34m.\u001b[0m\u001b[0m_get_tracing_count\u001b[0m\u001b[0;34m(\u001b[0m\u001b[0;34m)\u001b[0m\u001b[0;34m:\u001b[0m\u001b[0;34m\u001b[0m\u001b[0;34m\u001b[0m\u001b[0m\n",
            "\u001b[0;32m/usr/local/lib/python3.6/dist-packages/tensorflow/python/eager/def_function.py\u001b[0m in \u001b[0;36m_call\u001b[0;34m(self, *args, **kwds)\u001b[0m\n\u001b[1;32m    609\u001b[0m       \u001b[0;31m# In this case we have created variables on the first call, so we run the\u001b[0m\u001b[0;34m\u001b[0m\u001b[0;34m\u001b[0m\u001b[0;34m\u001b[0m\u001b[0m\n\u001b[1;32m    610\u001b[0m       \u001b[0;31m# defunned version which is guaranteed to never create variables.\u001b[0m\u001b[0;34m\u001b[0m\u001b[0;34m\u001b[0m\u001b[0;34m\u001b[0m\u001b[0m\n\u001b[0;32m--> 611\u001b[0;31m       \u001b[0;32mreturn\u001b[0m \u001b[0mself\u001b[0m\u001b[0;34m.\u001b[0m\u001b[0m_stateless_fn\u001b[0m\u001b[0;34m(\u001b[0m\u001b[0;34m*\u001b[0m\u001b[0margs\u001b[0m\u001b[0;34m,\u001b[0m \u001b[0;34m**\u001b[0m\u001b[0mkwds\u001b[0m\u001b[0;34m)\u001b[0m  \u001b[0;31m# pylint: disable=not-callable\u001b[0m\u001b[0;34m\u001b[0m\u001b[0;34m\u001b[0m\u001b[0m\n\u001b[0m\u001b[1;32m    612\u001b[0m     \u001b[0;32melif\u001b[0m \u001b[0mself\u001b[0m\u001b[0;34m.\u001b[0m\u001b[0m_stateful_fn\u001b[0m \u001b[0;32mis\u001b[0m \u001b[0;32mnot\u001b[0m \u001b[0;32mNone\u001b[0m\u001b[0;34m:\u001b[0m\u001b[0;34m\u001b[0m\u001b[0;34m\u001b[0m\u001b[0m\n\u001b[1;32m    613\u001b[0m       \u001b[0;31m# Release the lock early so that multiple threads can perform the call\u001b[0m\u001b[0;34m\u001b[0m\u001b[0;34m\u001b[0m\u001b[0;34m\u001b[0m\u001b[0m\n",
            "\u001b[0;32m/usr/local/lib/python3.6/dist-packages/tensorflow/python/eager/function.py\u001b[0m in \u001b[0;36m__call__\u001b[0;34m(self, *args, **kwargs)\u001b[0m\n\u001b[1;32m   2418\u001b[0m     \u001b[0;32mwith\u001b[0m \u001b[0mself\u001b[0m\u001b[0;34m.\u001b[0m\u001b[0m_lock\u001b[0m\u001b[0;34m:\u001b[0m\u001b[0;34m\u001b[0m\u001b[0;34m\u001b[0m\u001b[0m\n\u001b[1;32m   2419\u001b[0m       \u001b[0mgraph_function\u001b[0m\u001b[0;34m,\u001b[0m \u001b[0margs\u001b[0m\u001b[0;34m,\u001b[0m \u001b[0mkwargs\u001b[0m \u001b[0;34m=\u001b[0m \u001b[0mself\u001b[0m\u001b[0;34m.\u001b[0m\u001b[0m_maybe_define_function\u001b[0m\u001b[0;34m(\u001b[0m\u001b[0margs\u001b[0m\u001b[0;34m,\u001b[0m \u001b[0mkwargs\u001b[0m\u001b[0;34m)\u001b[0m\u001b[0;34m\u001b[0m\u001b[0;34m\u001b[0m\u001b[0m\n\u001b[0;32m-> 2420\u001b[0;31m     \u001b[0;32mreturn\u001b[0m \u001b[0mgraph_function\u001b[0m\u001b[0;34m.\u001b[0m\u001b[0m_filtered_call\u001b[0m\u001b[0;34m(\u001b[0m\u001b[0margs\u001b[0m\u001b[0;34m,\u001b[0m \u001b[0mkwargs\u001b[0m\u001b[0;34m)\u001b[0m  \u001b[0;31m# pylint: disable=protected-access\u001b[0m\u001b[0;34m\u001b[0m\u001b[0;34m\u001b[0m\u001b[0m\n\u001b[0m\u001b[1;32m   2421\u001b[0m \u001b[0;34m\u001b[0m\u001b[0m\n\u001b[1;32m   2422\u001b[0m   \u001b[0;34m@\u001b[0m\u001b[0mproperty\u001b[0m\u001b[0;34m\u001b[0m\u001b[0;34m\u001b[0m\u001b[0m\n",
            "\u001b[0;32m/usr/local/lib/python3.6/dist-packages/tensorflow/python/eager/function.py\u001b[0m in \u001b[0;36m_filtered_call\u001b[0;34m(self, args, kwargs)\u001b[0m\n\u001b[1;32m   1663\u001b[0m          if isinstance(t, (ops.Tensor,\n\u001b[1;32m   1664\u001b[0m                            resource_variable_ops.BaseResourceVariable))),\n\u001b[0;32m-> 1665\u001b[0;31m         self.captured_inputs)\n\u001b[0m\u001b[1;32m   1666\u001b[0m \u001b[0;34m\u001b[0m\u001b[0m\n\u001b[1;32m   1667\u001b[0m   \u001b[0;32mdef\u001b[0m \u001b[0m_call_flat\u001b[0m\u001b[0;34m(\u001b[0m\u001b[0mself\u001b[0m\u001b[0;34m,\u001b[0m \u001b[0margs\u001b[0m\u001b[0;34m,\u001b[0m \u001b[0mcaptured_inputs\u001b[0m\u001b[0;34m,\u001b[0m \u001b[0mcancellation_manager\u001b[0m\u001b[0;34m=\u001b[0m\u001b[0;32mNone\u001b[0m\u001b[0;34m)\u001b[0m\u001b[0;34m:\u001b[0m\u001b[0;34m\u001b[0m\u001b[0;34m\u001b[0m\u001b[0m\n",
            "\u001b[0;32m/usr/local/lib/python3.6/dist-packages/tensorflow/python/eager/function.py\u001b[0m in \u001b[0;36m_call_flat\u001b[0;34m(self, args, captured_inputs, cancellation_manager)\u001b[0m\n\u001b[1;32m   1744\u001b[0m       \u001b[0;31m# No tape is watching; skip to running the function.\u001b[0m\u001b[0;34m\u001b[0m\u001b[0;34m\u001b[0m\u001b[0;34m\u001b[0m\u001b[0m\n\u001b[1;32m   1745\u001b[0m       return self._build_call_outputs(self._inference_function.call(\n\u001b[0;32m-> 1746\u001b[0;31m           ctx, args, cancellation_manager=cancellation_manager))\n\u001b[0m\u001b[1;32m   1747\u001b[0m     forward_backward = self._select_forward_and_backward_functions(\n\u001b[1;32m   1748\u001b[0m         \u001b[0margs\u001b[0m\u001b[0;34m,\u001b[0m\u001b[0;34m\u001b[0m\u001b[0;34m\u001b[0m\u001b[0m\n",
            "\u001b[0;32m/usr/local/lib/python3.6/dist-packages/tensorflow/python/eager/function.py\u001b[0m in \u001b[0;36mcall\u001b[0;34m(self, ctx, args, cancellation_manager)\u001b[0m\n\u001b[1;32m    596\u001b[0m               \u001b[0minputs\u001b[0m\u001b[0;34m=\u001b[0m\u001b[0margs\u001b[0m\u001b[0;34m,\u001b[0m\u001b[0;34m\u001b[0m\u001b[0;34m\u001b[0m\u001b[0m\n\u001b[1;32m    597\u001b[0m               \u001b[0mattrs\u001b[0m\u001b[0;34m=\u001b[0m\u001b[0mattrs\u001b[0m\u001b[0;34m,\u001b[0m\u001b[0;34m\u001b[0m\u001b[0;34m\u001b[0m\u001b[0m\n\u001b[0;32m--> 598\u001b[0;31m               ctx=ctx)\n\u001b[0m\u001b[1;32m    599\u001b[0m         \u001b[0;32melse\u001b[0m\u001b[0;34m:\u001b[0m\u001b[0;34m\u001b[0m\u001b[0;34m\u001b[0m\u001b[0m\n\u001b[1;32m    600\u001b[0m           outputs = execute.execute_with_cancellation(\n",
            "\u001b[0;32m/usr/local/lib/python3.6/dist-packages/tensorflow/python/eager/execute.py\u001b[0m in \u001b[0;36mquick_execute\u001b[0;34m(op_name, num_outputs, inputs, attrs, ctx, name)\u001b[0m\n\u001b[1;32m     58\u001b[0m     \u001b[0mctx\u001b[0m\u001b[0;34m.\u001b[0m\u001b[0mensure_initialized\u001b[0m\u001b[0;34m(\u001b[0m\u001b[0;34m)\u001b[0m\u001b[0;34m\u001b[0m\u001b[0;34m\u001b[0m\u001b[0m\n\u001b[1;32m     59\u001b[0m     tensors = pywrap_tfe.TFE_Py_Execute(ctx._handle, device_name, op_name,\n\u001b[0;32m---> 60\u001b[0;31m                                         inputs, attrs, num_outputs)\n\u001b[0m\u001b[1;32m     61\u001b[0m   \u001b[0;32mexcept\u001b[0m \u001b[0mcore\u001b[0m\u001b[0;34m.\u001b[0m\u001b[0m_NotOkStatusException\u001b[0m \u001b[0;32mas\u001b[0m \u001b[0me\u001b[0m\u001b[0;34m:\u001b[0m\u001b[0;34m\u001b[0m\u001b[0;34m\u001b[0m\u001b[0m\n\u001b[1;32m     62\u001b[0m     \u001b[0;32mif\u001b[0m \u001b[0mname\u001b[0m \u001b[0;32mis\u001b[0m \u001b[0;32mnot\u001b[0m \u001b[0;32mNone\u001b[0m\u001b[0;34m:\u001b[0m\u001b[0;34m\u001b[0m\u001b[0;34m\u001b[0m\u001b[0m\n",
            "\u001b[0;31mKeyboardInterrupt\u001b[0m: "
          ]
        }
      ]
    },
    {
      "cell_type": "code",
      "metadata": {
        "id": "XWAM_t_1WbUw",
        "colab_type": "code",
        "colab": {}
      },
      "source": [
        "# PLOT LOSS AND ACCURACY\n",
        "%matplotlib inline\n",
        "\n",
        "import matplotlib.image  as mpimg\n",
        "import matplotlib.pyplot as plt\n",
        "\n",
        "#-----------------------------------------------------------\n",
        "# Retrieve a list of list results on training and test data\n",
        "# sets for each training epoch\n",
        "#-----------------------------------------------------------\n",
        "acc=history.history['accuracy']\n",
        "val_acc=history.history['val_accuracy']\n",
        "loss=history.history['loss']\n",
        "val_loss=history.history['val_loss']\n",
        "\n",
        "epochs=range(len(acc)) # Get number of epochs\n",
        "\n",
        "#------------------------------------------------\n",
        "# Plot training and validation accuracy per epoch\n",
        "#------------------------------------------------\n",
        "plt.plot(epochs, acc, 'r', \"Training Accuracy\")\n",
        "plt.plot(epochs, val_acc, 'b', \"Validation Accuracy\")\n",
        "plt.title('Training and validation accuracy')\n",
        "plt.figure()\n",
        "\n",
        "#------------------------------------------------\n",
        "# Plot training and validation loss per epoch\n",
        "#------------------------------------------------\n",
        "plt.plot(epochs, loss, 'r', \"Training Loss\")\n",
        "plt.plot(epochs, val_loss, 'b', \"Validation Loss\")\n",
        "\n",
        "\n",
        "plt.title('Training and validation loss')\n",
        "\n",
        "# Desired output. Charts with training and validation metrics. No crash :)"
      ],
      "execution_count": 0,
      "outputs": []
    }
  ]
}